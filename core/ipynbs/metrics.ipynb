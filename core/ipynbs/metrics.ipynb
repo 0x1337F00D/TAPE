{
 "cells": [
  {
   "cell_type": "code",
   "execution_count": null,
   "metadata": {},
   "outputs": [],
   "source": [
    "from ogb.linkproppred import Evaluator"
   ]
  },
  {
   "cell_type": "code",
   "execution_count": null,
   "metadata": {},
   "outputs": [],
   "source": [
    "evaluator_hit = Evaluator(name='ogbl-collab')\n",
    "evaluator_mrr = Evaluator(name='ogbl-citation2')"
   ]
  }
 ],
 "metadata": {
  "language_info": {
   "name": "python"
  }
 },
 "nbformat": 4,
 "nbformat_minor": 2
}
